{
 "cells": [
  {
   "cell_type": "markdown",
   "source": [
    "# Lab04 - Joanna Wójcicka"
   ],
   "metadata": {
    "collapsed": false
   }
  },
  {
   "cell_type": "markdown",
   "source": [
    "Import of libraries and global parameters"
   ],
   "metadata": {
    "collapsed": false
   }
  },
  {
   "cell_type": "code",
   "execution_count": 128,
   "metadata": {
    "collapsed": true,
    "ExecuteTime": {
     "end_time": "2025-03-29T20:02:03.370185Z",
     "start_time": "2025-03-29T20:02:03.367989Z"
    }
   },
   "outputs": [],
   "source": [
    "import numpy as np\n",
    "import matplotlib.pyplot as plt"
   ]
  },
  {
   "cell_type": "markdown",
   "source": [
    "Functions for the advection diffusion scheme"
   ],
   "metadata": {
    "collapsed": false
   }
  },
  {
   "cell_type": "code",
   "execution_count": 129,
   "outputs": [],
   "source": [
    "class shift:\n",
    "    def __init__(self, add, sub):\n",
    "        self.add = add\n",
    "        self.sub = sub\n",
    "    def __radd__(self, other):\n",
    "        return slice(other.start + self.add, other.stop + self.add)\n",
    "    def __rsub__(self, other):\n",
    "        return slice(other.start - self.sub, other.stop - self.sub)\n",
    "\n",
    "class Psi_0:\n",
    "    def __init__(self, *, mu, L, u):\n",
    "        self.mu = mu  # diffusion coefficient\n",
    "        self.L = L    # domain length\n",
    "        self.u = u    # advection speed\n",
    "\n",
    "    def __call__(self, *, x, t):\n",
    "        factor = np.exp(-self.mu * (np.pi / self.L)**2 * t)\n",
    "        phase_shift = np.sin(np.pi * (x - self.u * t) / self.L)\n",
    "        return factor * phase_shift"
   ],
   "metadata": {
    "collapsed": false,
    "ExecuteTime": {
     "end_time": "2025-03-29T20:02:03.383607Z",
     "start_time": "2025-03-29T20:02:03.380188Z"
    }
   }
  },
  {
   "cell_type": "code",
   "outputs": [],
   "source": [
    "def F(a, b, C):\n",
    "    return a + C * (b - a)\n",
    "\n",
    "def upwind_safe(psi_analytic, x, dx, dt, nt, u, mu):\n",
    "    nx = len(x)\n",
    "    psi = psi_analytic(x=x, t=0)\n",
    "    output = [psi.copy()]\n",
    "\n",
    "    # Stability check\n",
    "    cfl = u * dt / dx\n",
    "    diff_num = mu * dt / dx**2\n",
    "    if cfl > 1.0 or diff_num > 0.5:\n",
    "        raise ValueError(f\"Unstable parameters: CFL={cfl:.2f}, Diff={diff_num:.2f}\")\n",
    "\n",
    "    for _ in range(nt):\n",
    "        psi_new = psi.copy()\n",
    "        for i in range(1, nx - 1):\n",
    "            adv = -u * (psi[i] - psi[i - 1]) / dx\n",
    "            diff = mu * (psi[i + 1] - 2 * psi[i] + psi[i - 1]) / dx**2\n",
    "            psi_new[i] += dt * (adv + diff)\n",
    "\n",
    "        # NaN/Inf check\n",
    "        if not np.all(np.isfinite(psi_new)):\n",
    "            raise ValueError(\"Unstable simulation: encountered NaN or Inf in psi\")\n",
    "\n",
    "        psi = psi_new\n",
    "        output.append(psi.copy())\n",
    "\n",
    "    return np.array(output)"
   ],
   "metadata": {
    "collapsed": false,
    "ExecuteTime": {
     "end_time": "2025-03-29T20:02:03.387311Z",
     "start_time": "2025-03-29T20:02:03.383607Z"
    }
   },
   "execution_count": 130
  },
  {
   "cell_type": "code",
   "outputs": [],
   "source": [
    "class Solution:\n",
    "    def __init__(self, u, mu, L, total_time):\n",
    "        self.u = u              # Advection speed\n",
    "        self.mu = mu           # Diffusion coefficient\n",
    "        self.L = L\n",
    "        self.total_time = total_time\n",
    "        self.psi_0 = Psi_0(mu=self.mu, L=self.L, u= self.u)    # Initial Gaussian pulse\n",
    "        self.dx_values = []     # Store dx values for plotting\n",
    "        self.errors = []        # Store errors for each test case\n",
    "\n",
    "    def run(self):\n",
    "        nx = 64\n",
    "        x, dx = np.linspace(0, self.L, nx, endpoint=True, retstep=True)\n",
    "        x = x[:-1] + dx/2\n",
    "        nt = 500\n",
    "        t_max = 10\n",
    "        dt = t_max / nt\n",
    "        # Numerical solution using upwind\n",
    "        psi_numerical = upwind_safe(psi_analytic=self.psi_0, x=x, dx=dx, dt=dt, nt=nt, u=self.u, mu=self.mu)\n",
    "        # Analytical solution (shifted initial condition)\n",
    "        psi_exact = self.psi_0(x=x, t=t_max)\n",
    "        \n",
    "        self.plot_solution(psi_exact, psi_numerical, x)\n",
    "\n",
    "        return psi_exact, psi_numerical\n",
    "        \n",
    "    def plot_solution(self, psi_exact, psi_numerical, x):        \n",
    "        plt.figure(figsize=(8, 6))\n",
    "        plt.step(x, psi_exact, label='Analytical Solution')\n",
    "        plt.step(x, psi_numerical[-1], label='Numerical Solution')\n",
    "        plt.xlabel('x')\n",
    "        plt.ylabel('u')\n",
    "        plt.title('Upwind Scheme')\n",
    "        plt.legend()\n",
    "        plt.grid(True)\n",
    "        plt.show()"
   ],
   "metadata": {
    "collapsed": false,
    "ExecuteTime": {
     "end_time": "2025-03-29T20:02:03.391003Z",
     "start_time": "2025-03-29T20:02:03.387311Z"
    }
   },
   "execution_count": 131
  },
  {
   "cell_type": "code",
   "outputs": [
    {
     "data": {
      "text/plain": "<Figure size 800x600 with 1 Axes>",
      "image/png": "[encoded data removed]"
     },
     "metadata": {},
     "output_type": "display_data"
    },
    {
     "data": {
      "text/plain": "(array([-0.12541772, -0.07822968, -0.03084715,  0.01661207,  0.06402999,\n         0.11128872,  0.15827077,  0.20485934,  0.25093859,  0.29639397,\n         0.34111246,  0.3849829 ,  0.42789621,  0.4697457 ,  0.51042733,\n         0.54983996,  0.5878856 ,  0.62446966,  0.65950119,  0.6928931 ,\n         0.72456237,  0.75443026,  0.78242252,  0.80846955,  0.8325066 ,\n         0.85447391,  0.87431686,  0.89198612,  0.90743776,  0.92063337,\n         0.93154014,  0.94013096,  0.94638446,  0.9502851 ,  0.95182318,\n         0.95099488,  0.94780225,  0.94225325,  0.93436165,  0.92414708,\n         0.91163493,  0.89685632,  0.87984798,  0.8606522 ,  0.8393167 ,\n         0.81589453,  0.79044392,  0.76302814,  0.73371535,  0.70257843,\n         0.66969478,  0.63514618,  0.59901849,  0.56140156,  0.52238889,\n         0.48207748,  0.44056755,  0.3979623 ,  0.35436765,  0.30989199,\n         0.26464588,  0.21874183,  0.17229395]),\n array([[0.02493069, 0.07473009, 0.1243437 , ..., 0.1243437 , 0.07473009,\n         0.02493069],\n        [0.02493069, 0.07440898, 0.12401887, ..., 0.12464205, 0.07503529,\n         0.02493069],\n        [0.02493069, 0.07410249, 0.12369409, ..., 0.12494032, 0.07532805,\n         0.02493069],\n        ...,\n        [0.02493069, 0.04715599, 0.07236113, ..., 0.18831485, 0.11213747,\n         0.02493069],\n        [0.02493069, 0.04713424, 0.07231516, ..., 0.1883923 , 0.11217963,\n         0.02493069],\n        [0.02493069, 0.04711253, 0.07226926, ..., 0.18846966, 0.11222174,\n         0.02493069]], shape=(501, 63)))"
     },
     "execution_count": 132,
     "metadata": {},
     "output_type": "execute_result"
    }
   ],
   "source": [
    "solution = Solution(u=0.05, mu=0.05, L=10, total_time=50)\n",
    "solution.run()"
   ],
   "metadata": {
    "collapsed": false,
    "ExecuteTime": {
     "end_time": "2025-03-29T20:02:03.491155Z",
     "start_time": "2025-03-29T20:02:03.391003Z"
    }
   },
   "execution_count": 132
  },
  {
   "cell_type": "code",
   "outputs": [],
   "source": [],
   "metadata": {
    "collapsed": false,
    "ExecuteTime": {
     "end_time": "2025-03-29T20:02:03.493022Z",
     "start_time": "2025-03-29T20:02:03.491155Z"
    }
   },
   "execution_count": 132
  }
 ],
 "metadata": {
  "kernelspec": {
   "display_name": "Python 3",
   "language": "python",
   "name": "python3"
  },
  "language_info": {
   "codemirror_mode": {
    "name": "ipython",
    "version": 2
   },
   "file_extension": ".py",
   "mimetype": "text/x-python",
   "name": "python",
   "nbconvert_exporter": "python",
   "pygments_lexer": "ipython2",
   "version": "2.7.6"
  }
 },
 "nbformat": 4,
 "nbformat_minor": 0
}
