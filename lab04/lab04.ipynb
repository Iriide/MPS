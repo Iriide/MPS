{
 "cells": [
  {
   "cell_type": "markdown",
   "source": [
    "# Lab04 - Joanna Wójcicka"
   ],
   "metadata": {
    "collapsed": false
   }
  },
  {
   "cell_type": "markdown",
   "source": [
    "Import of libraries and global parameters"
   ],
   "metadata": {
    "collapsed": false
   }
  },
  {
   "cell_type": "code",
   "execution_count": 344,
   "metadata": {
    "collapsed": true,
    "ExecuteTime": {
     "end_time": "2025-03-29T20:28:44.593656Z",
     "start_time": "2025-03-29T20:28:44.591656Z"
    }
   },
   "outputs": [],
   "source": [
    "import numpy as np\n",
    "import matplotlib.pyplot as plt"
   ]
  },
  {
   "cell_type": "markdown",
   "source": [
    "Functions for the advection diffusion scheme"
   ],
   "metadata": {
    "collapsed": false
   }
  },
  {
   "cell_type": "code",
   "execution_count": 345,
   "outputs": [],
   "source": [
    "class shift:\n",
    "    def __init__(self, add, sub):\n",
    "        self.add = add\n",
    "        self.sub = sub\n",
    "    def __radd__(self, other):\n",
    "        return slice(other.start + self.add, other.stop + self.add)\n",
    "    def __rsub__(self, other):\n",
    "        return slice(other.start - self.sub, other.stop - self.sub)\n",
    "\n",
    "class Psi_0:\n",
    "    def __init__(self, *, mu, L, u):\n",
    "        self.mu = mu  # diffusion coefficient\n",
    "        self.L = L    # domain length\n",
    "        self.u = u    # advection speed\n",
    "\n",
    "    def __call__(self, *, x, t):\n",
    "        factor = np.exp(-self.mu * (np.pi / self.L)**2 * t)\n",
    "        phase_shift = np.sin(np.pi * (x - self.u * t) / self.L)\n",
    "        return factor * phase_shift"
   ],
   "metadata": {
    "collapsed": false,
    "ExecuteTime": {
     "end_time": "2025-03-29T20:28:44.597890Z",
     "start_time": "2025-03-29T20:28:44.594660Z"
    }
   }
  },
  {
   "cell_type": "code",
   "outputs": [],
   "source": [
    "def F(a, b, C):\n",
    "    return a + C * (b - a)\n",
    "\n",
    "def upwind_safe(psi_analytic, x, dx, dt, nt, u, mu):\n",
    "    nx = len(x)\n",
    "    psi = psi_analytic(x=x, t=0)\n",
    "    output = [psi.copy()]\n",
    "\n",
    "    # Stability check\n",
    "    cfl = u * dt / dx\n",
    "    diff_num = mu * dt / dx**2\n",
    "    if cfl > 1.0 or diff_num > 0.5:\n",
    "        raise ValueError(f\"Unstable parameters: CFL={cfl:.2f}, Diff={diff_num:.2f}\")\n",
    "\n",
    "    for _ in range(nt):\n",
    "        psi_new = psi.copy()\n",
    "        for i in range(1, nx - 1):\n",
    "            adv = -u * (psi[i] - psi[i - 1]) / dx\n",
    "            diff = mu * (psi[i + 1] - 2 * psi[i] + psi[i - 1]) / dx**2\n",
    "            psi_new[i] += dt * (adv + diff)\n",
    "\n",
    "        # NaN/Inf check\n",
    "        if not np.all(np.isfinite(psi_new)):\n",
    "            raise ValueError(\"Unstable simulation: encountered NaN or Inf in psi\")\n",
    "\n",
    "        psi = psi_new\n",
    "        output.append(psi.copy())\n",
    "\n",
    "    return np.array(output)"
   ],
   "metadata": {
    "collapsed": false,
    "ExecuteTime": {
     "end_time": "2025-03-29T20:28:44.601239Z",
     "start_time": "2025-03-29T20:28:44.597890Z"
    }
   },
   "execution_count": 346
  },
  {
   "cell_type": "code",
   "outputs": [],
   "source": [
    "class Solution:\n",
    "    def __init__(self, u, mu, L):\n",
    "        self.u = u              # Advection speed\n",
    "        self.mu = mu           # Diffusion coefficient\n",
    "        self.L = L\n",
    "        self.psi_0 = Psi_0(mu=self.mu, L=self.L, u= self.u)    # Initial Gaussian pulse\n",
    "        self.dx_values = []     # Store dx values for plotting\n",
    "        self.errors = []        # Store errors for each test case\n",
    "\n",
    "    def run(self):\n",
    "        nx = 64\n",
    "        x, dx = np.linspace(0, self.L, nx, endpoint=True, retstep=True)\n",
    "        x = x[:-1] + dx/2\n",
    "        nt = 63\n",
    "        t_max = 1\n",
    "        t, dt = np.linspace(0, t_max, nt, endpoint=True, retstep=True)\n",
    "        # Numerical solution using upwind\n",
    "        psi_numerical = upwind_safe(psi_analytic=self.psi_0, x=x, dx=dx, dt=dt, nt=nt, u=self.u, mu=self.mu)\n",
    "        # Analytical solution (shifted initial condition)\n",
    "        psi_exact = self.psi_0(x=x, t=t_max)\n",
    "        \n",
    "        self.plot_solution(psi_exact, psi_numerical, t)\n",
    "\n",
    "        return psi_exact, psi_numerical\n",
    "        \n",
    "    def plot_solution(self, psi_exact, psi_numerical, x):        \n",
    "        plt.figure(figsize=(8, 6))\n",
    "        plt.step(x, psi_exact, label='Analytical Solution')\n",
    "        plt.step(x, psi_numerical[-1], label='Numerical Solution')\n",
    "        plt.xlabel('x')\n",
    "        plt.ylabel('u')\n",
    "        plt.title('Upwind Scheme')\n",
    "        plt.legend()\n",
    "        plt.grid(True)\n",
    "        plt.show()"
   ],
   "metadata": {
    "collapsed": false,
    "ExecuteTime": {
     "end_time": "2025-03-29T20:28:44.608761Z",
     "start_time": "2025-03-29T20:28:44.601239Z"
    }
   },
   "execution_count": 347
  },
  {
   "cell_type": "code",
   "outputs": [
    {
     "name": "stdout",
     "output_type": "stream",
     "text": [
      "[0.         0.01612903 0.03225806 0.0483871  0.06451613 0.08064516\n",
      " 0.09677419 0.11290323 0.12903226 0.14516129 0.16129032 0.17741935\n",
      " 0.19354839 0.20967742 0.22580645 0.24193548 0.25806452 0.27419355\n",
      " 0.29032258 0.30645161 0.32258065 0.33870968 0.35483871 0.37096774\n",
      " 0.38709677 0.40322581 0.41935484 0.43548387 0.4516129  0.46774194\n",
      " 0.48387097 0.5        0.51612903 0.53225806 0.5483871  0.56451613\n",
      " 0.58064516 0.59677419 0.61290323 0.62903226 0.64516129 0.66129032\n",
      " 0.67741935 0.69354839 0.70967742 0.72580645 0.74193548 0.75806452\n",
      " 0.77419355 0.79032258 0.80645161 0.82258065 0.83870968 0.85483871\n",
      " 0.87096774 0.88709677 0.90322581 0.91935484 0.93548387 0.9516129\n",
      " 0.96774194 0.98387097 1.        ] 0.016129032258064516\n"
     ]
    },
    {
     "data": {
      "text/plain": "<Figure size 800x600 with 1 Axes>",
      "image/png": "[encoded data removed]"
     },
     "metadata": {},
     "output_type": "display_data"
    },
    {
     "data": {
      "text/plain": "(array([0.00878099, 0.05621385, 0.10350695, 0.15054273, 0.19720422,\n        0.24337544, 0.28894159, 0.33378938, 0.37780732, 0.42088598,\n        0.46291824, 0.50379961, 0.54342846, 0.58170627, 0.61853785,\n        0.65383166, 0.68749994, 0.71945898, 0.74962933, 0.77793599,\n        0.80430858, 0.82868153, 0.85099425, 0.87119126, 0.88922235,\n        0.90504269, 0.91861296, 0.92989941, 0.93887398, 0.94551437,\n        0.94980406, 0.95173238, 0.95129455, 0.94849165, 0.94333065,\n        0.93582438, 0.9259915 , 0.91385647, 0.89944944, 0.88280624,\n        0.86396824, 0.84298229, 0.81990054, 0.7947804 , 0.7676843 ,\n        0.73867962, 0.70783847, 0.67523752, 0.64095782, 0.6050846 ,\n        0.56770705, 0.52891808, 0.48881414, 0.44749493, 0.40506318,\n        0.36162438, 0.31728653, 0.27215985, 0.22635653, 0.17999046,\n        0.13317691, 0.08603225, 0.03867371]),\n array([[0.02493069, 0.07473009, 0.1243437 , ..., 0.1243437 , 0.07473009,\n         0.02493069],\n        [0.02493069, 0.07441761, 0.12399269, ..., 0.12449525, 0.07492269,\n         0.02493069],\n        [0.02493069, 0.0741944 , 0.12364214, ..., 0.12464647, 0.0750403 ,\n         0.02493069],\n        ...,\n        [0.02493069, 0.06886172, 0.11328789, ..., 0.12516359, 0.07546218,\n         0.02493069],\n        [0.02493069, 0.06879701, 0.11315853, ..., 0.12513668, 0.075449  ,\n         0.02493069],\n        [0.02493069, 0.06873264, 0.11302983, ..., 0.12510929, 0.07543558,\n         0.02493069]], shape=(64, 63)))"
     },
     "execution_count": 348,
     "metadata": {},
     "output_type": "execute_result"
    }
   ],
   "source": [
    "solution = Solution(u=0.05, mu=0.5, L=10)\n",
    "solution.run()"
   ],
   "metadata": {
    "collapsed": false,
    "ExecuteTime": {
     "end_time": "2025-03-29T20:28:44.663186Z",
     "start_time": "2025-03-29T20:28:44.608761Z"
    }
   },
   "execution_count": 348
  },
  {
   "cell_type": "code",
   "outputs": [],
   "source": [],
   "metadata": {
    "collapsed": false,
    "ExecuteTime": {
     "end_time": "2025-03-29T20:28:44.664818Z",
     "start_time": "2025-03-29T20:28:44.663186Z"
    }
   },
   "execution_count": 348
  }
 ],
 "metadata": {
  "kernelspec": {
   "display_name": "Python 3",
   "language": "python",
   "name": "python3"
  },
  "language_info": {
   "codemirror_mode": {
    "name": "ipython",
    "version": 2
   },
   "file_extension": ".py",
   "mimetype": "text/x-python",
   "name": "python",
   "nbconvert_exporter": "python",
   "pygments_lexer": "ipython2",
   "version": "2.7.6"
  }
 },
 "nbformat": 4,
 "nbformat_minor": 0
}
