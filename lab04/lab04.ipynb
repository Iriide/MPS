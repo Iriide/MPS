{
 "cells": [
  {
   "cell_type": "markdown",
   "source": [
    "# Lab04 - Joanna Wójcicka\n",
    "In this project, I modeled the advection-diffusion equation — a partial differential equation describing the transport of a quantity (e.g., heat, pollutant) due to both advection (motion with a velocity field) and diffusion (random spreading). This type of equation is widely used in physics, engineering, and environmental modeling.\n",
    "\n",
    "### Breakdown of the Equation\n",
    "\n",
    "$$ c(x,t) = \\frac{M}{A} \\frac{1}{2\\sqrt{\\pi D} t^{3/2}} x \\exp\\left[-\\frac{(ut - x)^2}{4Dt}\\right] $$\n",
    "\n",
    "#### Where:\n",
    "-  c(x,t)  → **Concentration** at position \\( x \\) and time \\( t \\).\n",
    "-  M  → **Total mass** of the substance (**kg**).\n",
    "-  A  → **Volumetric flow rate** (**m³/s**). Funnily, it is not an area.\n",
    "-  D  → **Diffusion coefficient** (**m²/s**).\n",
    "-  u  → **Velocity of advection** (**m/s**).\n",
    "-  t  → **Time** (**s**).\n",
    "-  x  → **Position** (**m**).\n",
    "-  $\\pi$  → **Mathematical constant** (~3.14159).\n",
    "-  $\\exp$  → **Exponential function**.\n",
    "\n",
    "There is an implementation of:\n",
    "- An analytical solution based on a shifted and decaying sine wave, reflecting the behavior of a diffusing and advecting initial profile in a bounded domain.\n",
    "- A numerical solution using an explicit finite difference method with the upwind scheme for advection and central differencing for diffusion.\n",
    "- A comparison between the analytical and numerical solutions, visualized using a vector graphic plot.\n",
    "- Quantitative analysis via RMSE (root mean square error) to assess numerical accuracy."
   ],
   "metadata": {
    "collapsed": false
   }
  },
  {
   "cell_type": "markdown",
   "source": [
    "Import of libraries and global parameters"
   ],
   "metadata": {
    "collapsed": false
   }
  },
  {
   "cell_type": "code",
   "execution_count": 46,
   "metadata": {
    "collapsed": true,
    "ExecuteTime": {
     "end_time": "2025-04-06T16:24:29.973559Z",
     "start_time": "2025-04-06T16:24:29.971569Z"
    }
   },
   "outputs": [],
   "source": [
    "import numpy as np\n",
    "import matplotlib.pyplot as plt"
   ]
  },
  {
   "cell_type": "markdown",
   "source": [
    "Functions for the advection diffusion scheme"
   ],
   "metadata": {
    "collapsed": false
   }
  },
  {
   "cell_type": "code",
   "execution_count": 47,
   "outputs": [],
   "source": [
    "class shift:\n",
    "    def __init__(self, add, sub):\n",
    "        self.add = add\n",
    "        self.sub = sub\n",
    "    def __radd__(self, other):\n",
    "        return slice(other.start + self.add, other.stop + self.add)\n",
    "    def __rsub__(self, other):\n",
    "        return slice(other.start - self.sub, other.stop - self.sub)\n",
    "\n",
    "class Psi_0:\n",
    "    def __init__(self, *, mu, L, u):\n",
    "        self.mu = mu  # diffusion coefficient\n",
    "        self.L = L    # domain length\n",
    "        self.u = u    # advection speed\n",
    "\n",
    "    def __call__(self, *, x, t):\n",
    "        factor = np.exp(-self.mu * (np.pi / self.L)**2 * t)\n",
    "        phase_shift = np.sin(np.pi * (x - self.u * t) / self.L)\n",
    "        return factor * phase_shift"
   ],
   "metadata": {
    "collapsed": false,
    "ExecuteTime": {
     "end_time": "2025-04-06T16:24:29.992931Z",
     "start_time": "2025-04-06T16:24:29.989562Z"
    }
   }
  },
  {
   "cell_type": "code",
   "outputs": [],
   "source": [
    "def F(a, b, C):\n",
    "    return a + C * (b - a)\n",
    "\n",
    "def upwind_safe(psi_analytic, x, dx, dt, nt, u, mu):\n",
    "    nx = len(x)\n",
    "    psi = psi_analytic(x=x, t=0)\n",
    "    output = [psi.copy()]\n",
    "\n",
    "    # Stability check\n",
    "    cfl = u * dt / dx\n",
    "    diff_num = mu * dt / dx**2\n",
    "    if cfl > 1.0 or diff_num > 0.5:\n",
    "        raise ValueError(f\"Unstable parameters: CFL={cfl:.2f}, Diff={diff_num:.2f}\")\n",
    "\n",
    "    for _ in range(nt):\n",
    "        psi_new = psi.copy()\n",
    "        for i in range(1, nx - 1):\n",
    "            adv = -u * (psi[i] - psi[i - 1]) / dx\n",
    "            diff = mu * (psi[i + 1] - 2 * psi[i] + psi[i - 1]) / dx**2\n",
    "            psi_new[i] += dt * (adv + diff)\n",
    "\n",
    "        # NaN/Inf check\n",
    "        if not np.all(np.isfinite(psi_new)):\n",
    "            raise ValueError(\"Unstable simulation: encountered NaN or Inf in psi\")\n",
    "\n",
    "        psi = psi_new\n",
    "        output.append(psi.copy())\n",
    "\n",
    "    return np.array(output)"
   ],
   "metadata": {
    "collapsed": false,
    "ExecuteTime": {
     "end_time": "2025-04-06T16:24:30.009736Z",
     "start_time": "2025-04-06T16:24:30.006936Z"
    }
   },
   "execution_count": 48
  },
  {
   "cell_type": "code",
   "outputs": [],
   "source": [
    "class Solution:\n",
    "    def __init__(self, u, mu, L):\n",
    "        self.u = u              # Advection speed\n",
    "        self.mu = mu           # Diffusion coefficient\n",
    "        self.L = L\n",
    "        self.psi_0 = Psi_0(mu=self.mu, L=self.L, u= self.u)    # Initial Gaussian pulse\n",
    "        self.dx_values = []     # Store dx values for plotting\n",
    "        self.errors = []        # Store errors for each test case\n",
    "\n",
    "    def run(self):\n",
    "        nx = 64\n",
    "        x, dx = np.linspace(0, self.L, nx, endpoint=True, retstep=True)\n",
    "        x = x[:-1] + dx/2\n",
    "        nt = 63\n",
    "        t_max = 1\n",
    "        t, dt = np.linspace(0, t_max, nt, endpoint=True, retstep=True)\n",
    "        # Numerical solution using upwind\n",
    "        psi_numerical = upwind_safe(psi_analytic=self.psi_0, x=x, dx=dx, dt=dt, nt=nt, u=self.u, mu=self.mu)\n",
    "        # Analytical solution (shifted initial condition)\n",
    "        psi_exact = self.psi_0(x=x, t=t_max)\n",
    "        \n",
    "        self.plot_solution(psi_exact, psi_numerical, t)\n",
    "\n",
    "        return psi_exact, psi_numerical\n",
    "        \n",
    "    def plot_solution(self, psi_exact, psi_numerical, t):        \n",
    "        plt.figure(figsize=(8, 6))\n",
    "        plt.step(t, psi_exact, label='Analytical Solution')\n",
    "        plt.step(t, psi_numerical[-1], label='Numerical Solution')\n",
    "        plt.xlabel('t')\n",
    "        plt.ylabel('u')\n",
    "        plt.title('Upwind Scheme')\n",
    "        plt.legend()\n",
    "        plt.grid(True)\n",
    "        plt.show()"
   ],
   "metadata": {
    "collapsed": false,
    "ExecuteTime": {
     "end_time": "2025-04-06T16:24:30.013719Z",
     "start_time": "2025-04-06T16:24:30.009736Z"
    }
   },
   "execution_count": 49
  },
  {
   "cell_type": "markdown",
   "source": [
    "The upwind scheme produced a stable and accurate numerical solution that matches the analytical reference pretty closely. "
   ],
   "metadata": {
    "collapsed": false
   }
  },
  {
   "cell_type": "code",
   "outputs": [
    {
     "data": {
      "text/plain": "<Figure size 800x600 with 1 Axes>",
      "image/png": "[encoded data removed]"
     },
     "metadata": {},
     "output_type": "display_data"
    },
    {
     "data": {
      "text/plain": "(array([-0.12541772, -0.07822968, -0.03084715,  0.01661207,  0.06402999,\n         0.11128872,  0.15827077,  0.20485934,  0.25093859,  0.29639397,\n         0.34111246,  0.3849829 ,  0.42789621,  0.4697457 ,  0.51042733,\n         0.54983996,  0.5878856 ,  0.62446966,  0.65950119,  0.6928931 ,\n         0.72456237,  0.75443026,  0.78242252,  0.80846955,  0.8325066 ,\n         0.85447391,  0.87431686,  0.89198612,  0.90743776,  0.92063337,\n         0.93154014,  0.94013096,  0.94638446,  0.9502851 ,  0.95182318,\n         0.95099488,  0.94780225,  0.94225325,  0.93436165,  0.92414708,\n         0.91163493,  0.89685632,  0.87984798,  0.8606522 ,  0.8393167 ,\n         0.81589453,  0.79044392,  0.76302814,  0.73371535,  0.70257843,\n         0.66969478,  0.63514618,  0.59901849,  0.56140156,  0.52238889,\n         0.48207748,  0.44056755,  0.3979623 ,  0.35436765,  0.30989199,\n         0.26464588,  0.21874183,  0.17229395]),\n array([[0.02493069, 0.07473009, 0.1243437 , ..., 0.1243437 , 0.07473009,\n         0.02493069],\n        [0.02493069, 0.07214049, 0.12172406, ..., 0.12674974, 0.07719132,\n         0.02493069],\n        [0.02493069, 0.07050173, 0.11910803, ..., 0.12915075, 0.07884428,\n         0.02493069],\n        ...,\n        [0.02493069, 0.0472196 , 0.07249803, ..., 0.18800469, 0.11196962,\n         0.02493069],\n        [0.02493069, 0.04704407, 0.07212692, ..., 0.18863111, 0.11231057,\n         0.02493069],\n        [0.02493069, 0.04687104, 0.07176102, ..., 0.1892516 , 0.11264827,\n         0.02493069]], shape=(64, 63)))"
     },
     "execution_count": 50,
     "metadata": {},
     "output_type": "execute_result"
    }
   ],
   "source": [
    "solution = Solution(u=0.5, mu=0.5, L=10)\n",
    "solution.run()"
   ],
   "metadata": {
    "collapsed": false,
    "ExecuteTime": {
     "end_time": "2025-04-06T16:24:30.072090Z",
     "start_time": "2025-04-06T16:24:30.013719Z"
    }
   },
   "execution_count": 50
  },
  {
   "cell_type": "code",
   "outputs": [],
   "source": [],
   "metadata": {
    "collapsed": false,
    "ExecuteTime": {
     "end_time": "2025-04-06T16:24:30.074072Z",
     "start_time": "2025-04-06T16:24:30.072090Z"
    }
   },
   "execution_count": 50
  }
 ],
 "metadata": {
  "kernelspec": {
   "display_name": "Python 3",
   "language": "python",
   "name": "python3"
  },
  "language_info": {
   "codemirror_mode": {
    "name": "ipython",
    "version": 2
   },
   "file_extension": ".py",
   "mimetype": "text/x-python",
   "name": "python",
   "nbconvert_exporter": "python",
   "pygments_lexer": "ipython2",
   "version": "2.7.6"
  }
 },
 "nbformat": 4,
 "nbformat_minor": 0
}
